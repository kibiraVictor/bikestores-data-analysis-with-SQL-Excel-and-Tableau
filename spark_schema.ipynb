{
 "cells": [
  {
   "cell_type": "code",
   "execution_count": 1,
   "id": "5baa2e9f-cafd-441d-b1ed-ec33f91d2a1d",
   "metadata": {},
   "outputs": [],
   "source": [
    "import pandas as pd\n",
    "from pyspark.sql import SparkSession\n",
    "from pyspark.sql import types\n",
    "from pyspark.conf import SparkConf"
   ]
  },
  {
   "cell_type": "code",
   "execution_count": 2,
   "id": "367be10e-8215-43d5-9397-7db37e9bbdd4",
   "metadata": {},
   "outputs": [
    {
     "data": {
      "text/plain": [
       "<pyspark.conf.SparkConf at 0x7fce8d3ecd40>"
      ]
     },
     "execution_count": 2,
     "metadata": {},
     "output_type": "execute_result"
    }
   ],
   "source": [
    "conf = SparkConf()\n",
    "conf.set('spark.jars', 'postgresql-42.7.3.jar')"
   ]
  },
  {
   "cell_type": "code",
   "execution_count": 3,
   "id": "a29186be-54de-43c0-9a90-af8c9b0c40b4",
   "metadata": {},
   "outputs": [
    {
     "name": "stderr",
     "output_type": "stream",
     "text": [
      "24/05/22 08:41:48 WARN Utils: Your hostname, DESKTOP-R4B4RHT resolves to a loopback address: 127.0.1.1; using 172.30.252.130 instead (on interface eth0)\n",
      "24/05/22 08:41:48 WARN Utils: Set SPARK_LOCAL_IP if you need to bind to another address\n",
      "24/05/22 08:41:51 WARN NativeCodeLoader: Unable to load native-hadoop library for your platform... using builtin-java classes where applicable\n",
      "Setting default log level to \"WARN\".\n",
      "To adjust logging level use sc.setLogLevel(newLevel). For SparkR, use setLogLevel(newLevel).\n"
     ]
    }
   ],
   "source": [
    "spark = SparkSession.builder \\\n",
    "       .master('local[1]') \\\n",
    "       .appName('spark postgres') \\\n",
    "       .config(conf=conf) \\\n",
    "       .getOrCreate()"
   ]
  },
  {
   "cell_type": "code",
   "execution_count": 4,
   "id": "c968b887-3db9-47b1-8429-c5bcbfa9736d",
   "metadata": {},
   "outputs": [
    {
     "name": "stderr",
     "output_type": "stream",
     "text": [
      "24/05/22 08:42:04 WARN GarbageCollectionMetrics: To enable non-built-in garbage collector(s) List(G1 Concurrent GC), users should configure it(them) to spark.eventLog.gcMetrics.youngGenerationGarbageCollectors or spark.eventLog.gcMetrics.oldGenerationGarbageCollectors\n"
     ]
    }
   ],
   "source": [
    "df = pd.read_csv('pizza_sales.csv')"
   ]
  },
  {
   "cell_type": "code",
   "execution_count": 5,
   "id": "5fccdf77-cc73-4ea5-911a-dc7112605233",
   "metadata": {},
   "outputs": [
    {
     "data": {
      "text/html": [
       "<div>\n",
       "<style scoped>\n",
       "    .dataframe tbody tr th:only-of-type {\n",
       "        vertical-align: middle;\n",
       "    }\n",
       "\n",
       "    .dataframe tbody tr th {\n",
       "        vertical-align: top;\n",
       "    }\n",
       "\n",
       "    .dataframe thead th {\n",
       "        text-align: right;\n",
       "    }\n",
       "</style>\n",
       "<table border=\"1\" class=\"dataframe\">\n",
       "  <thead>\n",
       "    <tr style=\"text-align: right;\">\n",
       "      <th></th>\n",
       "      <th>pizza_id</th>\n",
       "      <th>order_id</th>\n",
       "      <th>pizza_name_id</th>\n",
       "      <th>quantity</th>\n",
       "      <th>order_date</th>\n",
       "      <th>order_time</th>\n",
       "      <th>unit_price</th>\n",
       "      <th>total_price</th>\n",
       "      <th>pizza_size</th>\n",
       "      <th>pizza_category</th>\n",
       "      <th>pizza_ingredients</th>\n",
       "      <th>pizza_name</th>\n",
       "    </tr>\n",
       "  </thead>\n",
       "  <tbody>\n",
       "    <tr>\n",
       "      <th>0</th>\n",
       "      <td>1</td>\n",
       "      <td>1</td>\n",
       "      <td>hawaiian_m</td>\n",
       "      <td>1</td>\n",
       "      <td>01-01-2015</td>\n",
       "      <td>11:38:36</td>\n",
       "      <td>13.25</td>\n",
       "      <td>13.25</td>\n",
       "      <td>M</td>\n",
       "      <td>Classic</td>\n",
       "      <td>Sliced Ham, Pineapple, Mozzarella Cheese</td>\n",
       "      <td>The Hawaiian Pizza</td>\n",
       "    </tr>\n",
       "    <tr>\n",
       "      <th>1</th>\n",
       "      <td>2</td>\n",
       "      <td>2</td>\n",
       "      <td>classic_dlx_m</td>\n",
       "      <td>1</td>\n",
       "      <td>01-01-2015</td>\n",
       "      <td>11:57:40</td>\n",
       "      <td>16.00</td>\n",
       "      <td>16.00</td>\n",
       "      <td>M</td>\n",
       "      <td>Classic</td>\n",
       "      <td>Pepperoni, Mushrooms, Red Onions, Red Peppers,...</td>\n",
       "      <td>The Classic Deluxe Pizza</td>\n",
       "    </tr>\n",
       "    <tr>\n",
       "      <th>2</th>\n",
       "      <td>3</td>\n",
       "      <td>2</td>\n",
       "      <td>five_cheese_l</td>\n",
       "      <td>1</td>\n",
       "      <td>01-01-2015</td>\n",
       "      <td>11:57:40</td>\n",
       "      <td>18.50</td>\n",
       "      <td>18.50</td>\n",
       "      <td>L</td>\n",
       "      <td>Veggie</td>\n",
       "      <td>Mozzarella Cheese, Provolone Cheese, Smoked Go...</td>\n",
       "      <td>The Five Cheese Pizza</td>\n",
       "    </tr>\n",
       "    <tr>\n",
       "      <th>3</th>\n",
       "      <td>4</td>\n",
       "      <td>2</td>\n",
       "      <td>ital_supr_l</td>\n",
       "      <td>1</td>\n",
       "      <td>01-01-2015</td>\n",
       "      <td>11:57:40</td>\n",
       "      <td>20.75</td>\n",
       "      <td>20.75</td>\n",
       "      <td>L</td>\n",
       "      <td>Supreme</td>\n",
       "      <td>Calabrese Salami, Capocollo, Tomatoes, Red Oni...</td>\n",
       "      <td>The Italian Supreme Pizza</td>\n",
       "    </tr>\n",
       "    <tr>\n",
       "      <th>4</th>\n",
       "      <td>5</td>\n",
       "      <td>2</td>\n",
       "      <td>mexicana_m</td>\n",
       "      <td>1</td>\n",
       "      <td>01-01-2015</td>\n",
       "      <td>11:57:40</td>\n",
       "      <td>16.00</td>\n",
       "      <td>16.00</td>\n",
       "      <td>M</td>\n",
       "      <td>Veggie</td>\n",
       "      <td>Tomatoes, Red Peppers, Jalapeno Peppers, Red O...</td>\n",
       "      <td>The Mexicana Pizza</td>\n",
       "    </tr>\n",
       "  </tbody>\n",
       "</table>\n",
       "</div>"
      ],
      "text/plain": [
       "   pizza_id  order_id  pizza_name_id  quantity  order_date order_time  \\\n",
       "0         1         1     hawaiian_m         1  01-01-2015   11:38:36   \n",
       "1         2         2  classic_dlx_m         1  01-01-2015   11:57:40   \n",
       "2         3         2  five_cheese_l         1  01-01-2015   11:57:40   \n",
       "3         4         2    ital_supr_l         1  01-01-2015   11:57:40   \n",
       "4         5         2     mexicana_m         1  01-01-2015   11:57:40   \n",
       "\n",
       "   unit_price  total_price pizza_size pizza_category  \\\n",
       "0       13.25        13.25          M        Classic   \n",
       "1       16.00        16.00          M        Classic   \n",
       "2       18.50        18.50          L         Veggie   \n",
       "3       20.75        20.75          L        Supreme   \n",
       "4       16.00        16.00          M         Veggie   \n",
       "\n",
       "                                   pizza_ingredients  \\\n",
       "0           Sliced Ham, Pineapple, Mozzarella Cheese   \n",
       "1  Pepperoni, Mushrooms, Red Onions, Red Peppers,...   \n",
       "2  Mozzarella Cheese, Provolone Cheese, Smoked Go...   \n",
       "3  Calabrese Salami, Capocollo, Tomatoes, Red Oni...   \n",
       "4  Tomatoes, Red Peppers, Jalapeno Peppers, Red O...   \n",
       "\n",
       "                  pizza_name  \n",
       "0         The Hawaiian Pizza  \n",
       "1   The Classic Deluxe Pizza  \n",
       "2      The Five Cheese Pizza  \n",
       "3  The Italian Supreme Pizza  \n",
       "4         The Mexicana Pizza  "
      ]
     },
     "execution_count": 5,
     "metadata": {},
     "output_type": "execute_result"
    }
   ],
   "source": [
    "df.head(n=5)"
   ]
  },
  {
   "cell_type": "code",
   "execution_count": 6,
   "id": "ebcb0e40-b8c8-48b8-aff4-9af1f2a832bd",
   "metadata": {},
   "outputs": [],
   "source": [
    "spark_df = spark.createDataFrame(df)"
   ]
  },
  {
   "cell_type": "code",
   "execution_count": 7,
   "id": "d11fb651-a935-4187-93a7-c9ec378107ee",
   "metadata": {},
   "outputs": [
    {
     "name": "stderr",
     "output_type": "stream",
     "text": [
      "24/05/22 08:42:28 WARN TaskSetManager: Stage 0 contains a task of very large size (2682 KiB). The maximum recommended task size is 1000 KiB.\n",
      "                                                                                \r"
     ]
    },
    {
     "name": "stdout",
     "output_type": "stream",
     "text": [
      "+--------+--------+--------------+--------+----------+----------+----------+-----------+----------+--------------+--------------------+--------------------+\n",
      "|pizza_id|order_id| pizza_name_id|quantity|order_date|order_time|unit_price|total_price|pizza_size|pizza_category|   pizza_ingredients|          pizza_name|\n",
      "+--------+--------+--------------+--------+----------+----------+----------+-----------+----------+--------------+--------------------+--------------------+\n",
      "|       1|       1|    hawaiian_m|       1|01-01-2015|  11:38:36|     13.25|      13.25|         M|       Classic|Sliced Ham, Pinea...|  The Hawaiian Pizza|\n",
      "|       2|       2| classic_dlx_m|       1|01-01-2015|  11:57:40|      16.0|       16.0|         M|       Classic|Pepperoni, Mushro...|The Classic Delux...|\n",
      "|       3|       2| five_cheese_l|       1|01-01-2015|  11:57:40|      18.5|       18.5|         L|        Veggie|Mozzarella Cheese...|The Five Cheese P...|\n",
      "|       4|       2|   ital_supr_l|       1|01-01-2015|  11:57:40|     20.75|      20.75|         L|       Supreme|Calabrese Salami,...|The Italian Supre...|\n",
      "|       5|       2|    mexicana_m|       1|01-01-2015|  11:57:40|      16.0|       16.0|         M|        Veggie|Tomatoes, Red Pep...|  The Mexicana Pizza|\n",
      "|       6|       2|    thai_ckn_l|       1|01-01-2015|  11:57:40|     20.75|      20.75|         L|       Chicken|Chicken, Pineappl...|The Thai Chicken ...|\n",
      "|       7|       3|   ital_supr_m|       1|01-01-2015|  12:12:28|      16.5|       16.5|         M|       Supreme|Calabrese Salami,...|The Italian Supre...|\n",
      "|       8|       3|  prsc_argla_l|       1|01-01-2015|  12:12:28|     20.75|      20.75|         L|       Supreme|Prosciutto di San...|The Prosciutto an...|\n",
      "|       9|       4|   ital_supr_m|       1|01-01-2015|  12:16:31|      16.5|       16.5|         M|       Supreme|Calabrese Salami,...|The Italian Supre...|\n",
      "|      10|       5|   ital_supr_m|       1|01-01-2015|  12:21:30|      16.5|       16.5|         M|       Supreme|Calabrese Salami,...|The Italian Supre...|\n",
      "|      11|       6|     bbq_ckn_s|       1|01-01-2015|  12:29:36|     12.75|      12.75|         S|       Chicken|Barbecued Chicken...|The Barbecue Chic...|\n",
      "|      12|       6|   the_greek_s|       1|01-01-2015|  12:29:36|      12.0|       12.0|         S|       Classic|Kalamata Olives, ...|     The Greek Pizza|\n",
      "|      13|       7|spinach_supr_s|       1|01-01-2015|  12:50:37|      12.5|       12.5|         S|       Supreme|Spinach, Red Onio...|The Spinach Supre...|\n",
      "|      14|       8|spinach_supr_s|       1|01-01-2015|  12:51:37|      12.5|       12.5|         S|       Supreme|Spinach, Red Onio...|The Spinach Supre...|\n",
      "|      15|       9| classic_dlx_s|       1|01-01-2015|  12:52:01|      12.0|       12.0|         S|       Classic|Pepperoni, Mushro...|The Classic Delux...|\n",
      "|      16|       9|green_garden_s|       1|01-01-2015|  12:52:01|      12.0|       12.0|         S|        Veggie|Spinach, Mushroom...|The Green Garden ...|\n",
      "|      17|       9| ital_cpcllo_l|       1|01-01-2015|  12:52:01|      20.5|       20.5|         L|       Classic|Capocollo, Red Pe...|The Italian Capoc...|\n",
      "|      18|       9|   ital_supr_l|       1|01-01-2015|  12:52:01|     20.75|      20.75|         L|       Supreme|Calabrese Salami,...|The Italian Supre...|\n",
      "|      19|       9|   ital_supr_s|       1|01-01-2015|  12:52:01|      12.5|       12.5|         S|       Supreme|Calabrese Salami,...|The Italian Supre...|\n",
      "|      20|       9|    mexicana_s|       1|01-01-2015|  12:52:01|      12.0|       12.0|         S|        Veggie|Tomatoes, Red Pep...|  The Mexicana Pizza|\n",
      "+--------+--------+--------------+--------+----------+----------+----------+-----------+----------+--------------+--------------------+--------------------+\n",
      "only showing top 20 rows\n",
      "\n"
     ]
    }
   ],
   "source": [
    "spark_df.show()"
   ]
  },
  {
   "cell_type": "code",
   "execution_count": 8,
   "id": "95ca3f09-4c35-48ac-95e1-652b3875ace4",
   "metadata": {},
   "outputs": [
    {
     "data": {
      "text/plain": [
       "StructType([StructField('pizza_id', LongType(), True), StructField('order_id', LongType(), True), StructField('pizza_name_id', StringType(), True), StructField('quantity', LongType(), True), StructField('order_date', StringType(), True), StructField('order_time', StringType(), True), StructField('unit_price', DoubleType(), True), StructField('total_price', DoubleType(), True), StructField('pizza_size', StringType(), True), StructField('pizza_category', StringType(), True), StructField('pizza_ingredients', StringType(), True), StructField('pizza_name', StringType(), True)])"
      ]
     },
     "execution_count": 8,
     "metadata": {},
     "output_type": "execute_result"
    }
   ],
   "source": [
    "spark_df.schema"
   ]
  },
  {
   "cell_type": "code",
   "execution_count": 9,
   "id": "f841acff-13ac-4eff-a0ef-8534d7251834",
   "metadata": {},
   "outputs": [],
   "source": [
    "schema = types.StructType([\n",
    "    types.StructField('pizza_id', types.IntegerType(), True), \n",
    "    types.StructField('order_id', types.IntegerType(), True), \n",
    "    types.StructField('pizza_name_id', types.StringType(), True), \n",
    "    types.StructField('quantity', types.IntegerType(), True), \n",
    "    types.StructField('order_date', types.TimestampType(), True), \n",
    "    types.StructField('order_time', types.TimestampType(), True), \n",
    "    types.StructField('unit_price', types.DoubleType(), True), \n",
    "    types.StructField('total_price', types.DoubleType(), True), \n",
    "    types.StructField('pizza_size', types.StringType(), True), \n",
    "    types.StructField('pizza_category', types.StringType(), True), \n",
    "    types.StructField('pizza_ingredients', types.StringType(), True), \n",
    "    types.StructField('pizza_name', types.StringType(), True)\n",
    "    ])\n"
   ]
  },
  {
   "cell_type": "code",
   "execution_count": 10,
   "id": "6c581fbe-eba3-4e83-9545-085d06f35ca4",
   "metadata": {},
   "outputs": [],
   "source": [
    "spark_df = spark.read.option(\"header\", \"true\").schema(schema).csv(\"pizza_sales.csv\")"
   ]
  },
  {
   "cell_type": "code",
   "execution_count": 11,
   "id": "69bb8ff3-0995-484a-8268-30a66497ed85",
   "metadata": {},
   "outputs": [
    {
     "name": "stdout",
     "output_type": "stream",
     "text": [
      "root\n",
      " |-- pizza_id: integer (nullable = true)\n",
      " |-- order_id: integer (nullable = true)\n",
      " |-- pizza_name_id: string (nullable = true)\n",
      " |-- quantity: integer (nullable = true)\n",
      " |-- order_date: timestamp (nullable = true)\n",
      " |-- order_time: timestamp (nullable = true)\n",
      " |-- unit_price: double (nullable = true)\n",
      " |-- total_price: double (nullable = true)\n",
      " |-- pizza_size: string (nullable = true)\n",
      " |-- pizza_category: string (nullable = true)\n",
      " |-- pizza_ingredients: string (nullable = true)\n",
      " |-- pizza_name: string (nullable = true)\n",
      "\n"
     ]
    }
   ],
   "source": [
    "spark_df.printSchema()"
   ]
  },
  {
   "cell_type": "code",
   "execution_count": 12,
   "id": "98d876d6-a842-42ca-b0ba-ffecf1dd8abf",
   "metadata": {},
   "outputs": [
    {
     "name": "stderr",
     "output_type": "stream",
     "text": [
      "                                                                                \r"
     ]
    }
   ],
   "source": [
    "spark_df.write.format(\"jdbc\") \\\n",
    "    .options(url=\"jdbc:postgresql://172.18.0.2:5432/pizzasales\",\n",
    "             dbtable=\"public.pizza_sales\",\n",
    "             user=\"root\",\n",
    "             password=\"root\",\n",
    "             driver=\"org.postgresql.Driver\") \\\n",
    "    .mode('overwrite') \\\n",
    "    .save()\n"
   ]
  },
  {
   "cell_type": "code",
   "execution_count": null,
   "id": "deaf50a5-3d83-4ac5-aa18-62ed84c6bd58",
   "metadata": {},
   "outputs": [],
   "source": []
  }
 ],
 "metadata": {
  "kernelspec": {
   "display_name": "Python 3 (ipykernel)",
   "language": "python",
   "name": "python3"
  },
  "language_info": {
   "codemirror_mode": {
    "name": "ipython",
    "version": 3
   },
   "file_extension": ".py",
   "mimetype": "text/x-python",
   "name": "python",
   "nbconvert_exporter": "python",
   "pygments_lexer": "ipython3",
   "version": "3.12.2"
  }
 },
 "nbformat": 4,
 "nbformat_minor": 5
}
